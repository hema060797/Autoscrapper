{
 "cells": [
  {
   "cell_type": "code",
   "execution_count": 1,
   "metadata": {},
   "outputs": [
    {
     "name": "stdout",
     "output_type": "stream",
     "text": [
      "Requirement already satisfied: autoscraper in c:\\users\\l\\anaconda3\\lib\\site-packages (1.1.12)\n",
      "Requirement already satisfied: bs4 in c:\\users\\l\\anaconda3\\lib\\site-packages (from autoscraper) (0.0.1)\n",
      "Requirement already satisfied: lxml in c:\\users\\l\\anaconda3\\lib\\site-packages (from autoscraper) (4.5.2)\n",
      "Requirement already satisfied: requests in c:\\users\\l\\anaconda3\\lib\\site-packages (from autoscraper) (2.24.0)\n",
      "Requirement already satisfied: beautifulsoup4 in c:\\users\\l\\anaconda3\\lib\\site-packages (from bs4->autoscraper) (4.9.1)\n",
      "Requirement already satisfied: certifi>=2017.4.17 in c:\\users\\l\\anaconda3\\lib\\site-packages (from requests->autoscraper) (2020.6.20)\n",
      "Requirement already satisfied: chardet<4,>=3.0.2 in c:\\users\\l\\anaconda3\\lib\\site-packages (from requests->autoscraper) (3.0.4)\n",
      "Requirement already satisfied: urllib3!=1.25.0,!=1.25.1,<1.26,>=1.21.1 in c:\\users\\l\\anaconda3\\lib\\site-packages (from requests->autoscraper) (1.25.9)\n",
      "Requirement already satisfied: idna<3,>=2.5 in c:\\users\\l\\anaconda3\\lib\\site-packages (from requests->autoscraper) (2.10)\n",
      "Requirement already satisfied: soupsieve>1.2 in c:\\users\\l\\anaconda3\\lib\\site-packages (from beautifulsoup4->bs4->autoscraper) (2.0.1)\n"
     ]
    }
   ],
   "source": [
    "!pip install autoscraper"
   ]
  },
  {
   "cell_type": "code",
   "execution_count": 9,
   "metadata": {},
   "outputs": [],
   "source": [
    "from autoscraper import AutoScraper"
   ]
  },
  {
   "cell_type": "code",
   "execution_count": 10,
   "metadata": {},
   "outputs": [],
   "source": [
    "amazon_url=\"https://www.amazon.in/s?k=iphones\"\n",
    "\n",
    "wanted_list=[\"₹58,400\",\"New Apple iPhone 11 (128GB) - Black\"]"
   ]
  },
  {
   "cell_type": "code",
   "execution_count": 11,
   "metadata": {},
   "outputs": [
    {
     "name": "stdout",
     "output_type": "stream",
     "text": [
      "['₹58,400', '₹59,900', '₹69,900', '₹74,900', 'New Apple iPhone 11 (128GB) - Black', 'New Apple iPhone 12 Mini (128GB) - White']\n"
     ]
    }
   ],
   "source": [
    "scraper=AutoScraper()\n",
    "result=scraper.build(amazon_url,wanted_list)\n",
    "print(result)"
   ]
  },
  {
   "cell_type": "code",
   "execution_count": 12,
   "metadata": {},
   "outputs": [
    {
     "data": {
      "text/plain": [
       "{'rule_bblk': ['₹58,400', '₹59,900'],\n",
       " 'rule_46fr': ['₹58,400', '₹59,900'],\n",
       " 'rule_7a4x': ['₹58,400', '₹59,900', '₹69,900', '₹74,900'],\n",
       " 'rule_muuy': ['₹58,400', '₹59,900', '₹69,900', '₹74,900'],\n",
       " 'rule_bmz9': ['New Apple iPhone 11 (128GB) - Black'],\n",
       " 'rule_rqni': ['New Apple iPhone 11 (128GB) - Black'],\n",
       " 'rule_auos': ['New Apple iPhone 11 (128GB) - Black',\n",
       "  'New Apple iPhone 12 Mini (128GB) - White']}"
      ]
     },
     "execution_count": 12,
     "metadata": {},
     "output_type": "execute_result"
    }
   ],
   "source": [
    "scraper.get_result_similar(amazon_url,grouped=True)"
   ]
  },
  {
   "cell_type": "code",
   "execution_count": 13,
   "metadata": {},
   "outputs": [],
   "source": [
    "scraper.set_rule_aliases({'rule_auos':'Title','rule_muuy':'Price'})\n",
    "scraper.keep_rules(['rule_auos','rule_muuy'])\n",
    "scraper.save('amazon-search')"
   ]
  },
  {
   "cell_type": "code",
   "execution_count": 14,
   "metadata": {},
   "outputs": [],
   "source": [
    "results=scraper.get_result_similar('https://www.amazon.in/s?k=mi+phones+under+15000',group_by_alias=True)"
   ]
  },
  {
   "cell_type": "code",
   "execution_count": 15,
   "metadata": {},
   "outputs": [
    {
     "data": {
      "text/plain": [
       "['₹13,499',\n",
       " '₹15,499',\n",
       " '₹18,990',\n",
       " '₹20,990',\n",
       " '₹23,490',\n",
       " '₹25,990',\n",
       " '₹8,499',\n",
       " '₹9,999',\n",
       " '₹11,490',\n",
       " '₹13,990',\n",
       " '₹5,198',\n",
       " '₹5,999']"
      ]
     },
     "execution_count": 15,
     "metadata": {},
     "output_type": "execute_result"
    }
   ],
   "source": [
    "results['Price']"
   ]
  },
  {
   "cell_type": "code",
   "execution_count": null,
   "metadata": {},
   "outputs": [],
   "source": []
  },
  {
   "cell_type": "code",
   "execution_count": null,
   "metadata": {},
   "outputs": [],
   "source": []
  },
  {
   "cell_type": "code",
   "execution_count": null,
   "metadata": {},
   "outputs": [],
   "source": []
  },
  {
   "cell_type": "code",
   "execution_count": null,
   "metadata": {},
   "outputs": [],
   "source": []
  }
 ],
 "metadata": {
  "kernelspec": {
   "display_name": "Python 3",
   "language": "python",
   "name": "python3"
  },
  "language_info": {
   "codemirror_mode": {
    "name": "ipython",
    "version": 3
   },
   "file_extension": ".py",
   "mimetype": "text/x-python",
   "name": "python",
   "nbconvert_exporter": "python",
   "pygments_lexer": "ipython3",
   "version": "3.8.3"
  }
 },
 "nbformat": 4,
 "nbformat_minor": 5
}
